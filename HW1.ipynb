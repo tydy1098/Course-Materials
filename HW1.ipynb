{
 "cells": [
  {
   "cell_type": "markdown",
   "metadata": {},
   "source": [
    "# DCS210: Homework 1 Assignment\n",
    "\n",
    "__Task 1__: Read Chapters 1 and 2 in [Think Python](http://greenteapress.com/thinkpython/html/thinkpython002.html)<br>\n",
    "__Task 2__: Read Chapters 1 and 2 in Guttag (skip 2.1.3 on IDLE) - some of this material will be new but will prepare you for next class<br> \n",
    "__Task 3__: Work through this notebook \n",
    "- this should reinforce the basics we covreed in class; some questions are straightforward and others are exploratory \n",
    "- insert a markdown cell to provide your answers below the questions\n",
    "\n",
    "__Note__ 'Deeper Dive' links on this page are completely optional ... if you are bored you might find the links interesting!\n",
    "\n",
    "\n",
    "    "
   ]
  },
  {
   "cell_type": "markdown",
   "metadata": {},
   "source": [
    "## Lesson Outcomes\n",
    "- Software Install, GitHub account, Slack\n",
    "- CLI\n",
    "- GitHub\n",
    "- Interpreter (iPython at the command line vs. Jupyter Notebook) vs. Scripting  \n",
    "- Very Basic Python:\n",
    "    - built-in types\n",
    "    - operations\n",
    "    - type\n",
    "- A little bit about markdown\n",
    "\n",
    "\n",
    "## Up Next\n",
    "- variables\n",
    "- more about strings\n",
    "- input\n",
    "- branching and iteration"
   ]
  },
  {
   "cell_type": "markdown",
   "metadata": {},
   "source": [
    "## Jupyter NB useful stuff\n",
    "(Note that this is a 'markdown' cell)\n",
    "- Shift-Enter to execute a cell\n",
    "- [markdown tutorial](https://www.datacamp.com/community/tutorials/markdown-in-jupyter-notebook)\n",
    "- [Command Mode](https://datalya.com/blog/python-data-science/jupyter-notebook-command-mode-keyboard-shortcuts) if you like to use keyboard shortcuts (note that in my Windows version cells are highlighted with blue when in command mode (hit-Esc); to exit command mode hit-Enter and the cell is highlighted in green)\n",
    "\n"
   ]
  },
  {
   "cell_type": "markdown",
   "metadata": {},
   "source": [
    "### Quick Check\n",
    "Recall how we wrote our first program, 'Hello World'<br>\n",
    "Can you recreate it here?<br>\n",
    "    __Hint:__ it was a simple print statement\n"
   ]
  },
  {
   "cell_type": "code",
   "execution_count": null,
   "metadata": {},
   "outputs": [],
   "source": [
    "# write your program here and then hit Shift-Enter to run the program.\n"
   ]
  },
  {
   "cell_type": "code",
   "execution_count": null,
   "metadata": {},
   "outputs": [],
   "source": [
    "help()"
   ]
  },
  {
   "cell_type": "markdown",
   "metadata": {},
   "source": [
    "What can go wrong: semantic, syntactic, runtime (check Guttag)\n",
    "think python 2.10 debugging - force some syntax errors\n",
    "    "
   ]
  },
  {
   "cell_type": "markdown",
   "metadata": {},
   "source": [
    "# Python Types\n",
    "There are two basic groups of types in Python — __scalar__ objects (one item or piece of information - Python's built-in core data types) and __collections__ (groups of things, they have internal structure - more on that later!).\n",
    "- __Integer__ (int)\n",
    "- __Float__ (float)\n",
    "- __String__ (str) (although strings are not as basic as int and float)\n",
    "- __Boolean__ (bool)\n",
    "- None (more on this later)\n",
    "\n",
    "Here is a [Deep Dive](https://realpython.com/python-data-types/) on Basic Data Types in Python<br> The very basics are below:\n"
   ]
  },
  {
   "cell_type": "markdown",
   "metadata": {},
   "source": [
    "## Objects, Expressions and Numerical Types\n",
    "(objects + operators = expressions)\n",
    "\n",
    "\n",
    "#### Operators for int and float\n",
    "|operator| operation|notes|\n",
    "|--------| -----|----|\n",
    "|+ | add |int + int = float; int + float = float|\n",
    "|- | subtract| int - int = float; int - float = float|\n",
    "|/ | division | always returns a float in Python 3|\n",
    "|* | multiplication | int * int = int; int * float = float|\n",
    "|//|integer division| result is always integer (returns the quotient); 6//4 = 1|\n",
    "|%| remainder| i%j =  i mod j |\n",
    "|**| power | if both are ints result is int; if one is float result is float |\n",
    "| == | equal |  |\n",
    "|!= |not equal| |\n",
    "|> | greater| |\n",
    "|>=| at least| |\n",
    "|< |less than| |\n",
    "|<= |at most) | |\n",
    "\n"
   ]
  },
  {
   "cell_type": "markdown",
   "metadata": {},
   "source": [
    "## Python as Calculator\n",
    "Let's explore the Python interpreter using the basic Python types and operators\n"
   ]
  },
  {
   "cell_type": "markdown",
   "metadata": {},
   "source": [
    "### Practice With Operators\n",
    "Operators can be used in a mathematical sense to calculate (or create) the sum, difference, product, or quotient of values or variables"
   ]
  },
  {
   "cell_type": "markdown",
   "metadata": {},
   "source": [
    "__1) Before running the cells below, guess what type of value will result from the operation, float or int?__"
   ]
  },
  {
   "cell_type": "code",
   "execution_count": null,
   "metadata": {},
   "outputs": [],
   "source": [
    "# Addition:\n",
    "print(1 + 2)\n",
    "# Subtraction:\n",
    "print(1 - 2)\n",
    "# Multiplication:\n",
    "print(1 * 2)\n",
    "# Division:\n",
    "print(1 / 2)"
   ]
  },
  {
   "cell_type": "code",
   "execution_count": null,
   "metadata": {},
   "outputs": [],
   "source": [
    "# Division of float numbers:\n",
    "print(3.0 // 2)\n",
    "print(-3.0 // 2)"
   ]
  },
  {
   "cell_type": "code",
   "execution_count": null,
   "metadata": {},
   "outputs": [],
   "source": [
    "# Exponent power operator:\n",
    "2 ** 2"
   ]
  },
  {
   "cell_type": "code",
   "execution_count": null,
   "metadata": {},
   "outputs": [],
   "source": [
    "# The modulo operator can be used to get the remainder — what's left over after the term has been cleanly divided:\n",
    "5%2."
   ]
  },
  {
   "cell_type": "markdown",
   "metadata": {},
   "source": [
    "__2) Comparison operators: before running the cell below, guess the resulting type of each comparison, True or False__\n"
   ]
  },
  {
   "cell_type": "code",
   "execution_count": null,
   "metadata": {},
   "outputs": [],
   "source": [
    "1 < 2\n",
    "1 > 2\n",
    "1 == 1\n",
    "1 != 1\n",
    "6 >= 7"
   ]
  },
  {
   "cell_type": "markdown",
   "metadata": {},
   "source": [
    "### What could go wrong? \n",
    "Why did running the cell above give you only 1 result (False)? For which expression is the result displayed?<br> How many results did you expect?<br>\n",
    "Insert a cell below this one and re-type the comparisons so that you get the correct number of results.<br>\n",
    "__Hint:__ Look at the cells above and fine one that diplayed multiple results<br>\n",
    "For a [Deeper Dive](https://www.dataquest.io/blog/jupyter-notebook-tips-tricks-shortcuts/) go to tip 2 (you won't understand the syntax but you can copy the statement and see how it works; we will get to import statements later)"
   ]
  },
  {
   "cell_type": "markdown",
   "metadata": {},
   "source": [
    "__3) Use the operators to calculate the values:<br>\n",
    "If you run a 10 kilometer race in 43 minutes 30 seconds, what is your average time per mile? <br>\n",
    "What is your average speed in miles per hour? <br>\n",
    "Hint 1: there are 1.61 kilometers in a mile<br>\n",
    "Hint 2: PEMDAS applies! Use parentheses if needed.__"
   ]
  },
  {
   "cell_type": "code",
   "execution_count": null,
   "metadata": {},
   "outputs": [],
   "source": []
  },
  {
   "cell_type": "markdown",
   "metadata": {},
   "source": [
    "__4) The volume of a sphere with radius r is 4/3 π r3. What is the volume of a sphere with radius 5? Hint: 392.7 is wrong!__"
   ]
  },
  {
   "cell_type": "code",
   "execution_count": null,
   "metadata": {},
   "outputs": [],
   "source": []
  },
  {
   "cell_type": "markdown",
   "metadata": {},
   "source": [
    "### Practice with Strings"
   ]
  },
  {
   "cell_type": "markdown",
   "metadata": {},
   "source": [
    "__5) Run the cell below__"
   ]
  },
  {
   "cell_type": "code",
   "execution_count": null,
   "metadata": {},
   "outputs": [],
   "source": [
    "print(\"I am a string\")"
   ]
  },
  {
   "cell_type": "markdown",
   "metadata": {},
   "source": [
    "__6) What happens if you add strings? Try it! (Run the cell to see the result!)<br>\n",
    "This is called 'string concatenation'__"
   ]
  },
  {
   "cell_type": "code",
   "execution_count": null,
   "metadata": {},
   "outputs": [],
   "source": [
    "\"I\" + \"am\""
   ]
  },
  {
   "cell_type": "markdown",
   "metadata": {},
   "source": [
    "__7) Why does this work? (Hint: look for 'overloaded' in Guttag)<br>\n",
    "What do you expect as a result?__"
   ]
  },
  {
   "cell_type": "code",
   "execution_count": null,
   "metadata": {},
   "outputs": [],
   "source": [
    "3*'a'"
   ]
  },
  {
   "cell_type": "markdown",
   "metadata": {},
   "source": [
    "__8) Here is an example of a syntax error ... why doe this generate an error?__"
   ]
  },
  {
   "cell_type": "code",
   "execution_count": null,
   "metadata": {},
   "outputs": [],
   "source": [
    "'a'*'a'"
   ]
  },
  {
   "cell_type": "markdown",
   "metadata": {},
   "source": [
    "### String Challenge"
   ]
  },
  {
   "cell_type": "markdown",
   "metadata": {},
   "source": [
    "__9) From the [Deep Dive](https://www.digitalocean.com/community/tutorials/how-to-format-text-in-python-3) page, how would you escape the apostrophe and quotes in the following string:\n",
    "\"If you set your goals ridiculously high and it's a failure, you will fail above everyone else's success.\" -James Cameron__\n"
   ]
  },
  {
   "cell_type": "code",
   "execution_count": null,
   "metadata": {},
   "outputs": [],
   "source": [
    "print()"
   ]
  },
  {
   "cell_type": "markdown",
   "metadata": {},
   "source": [
    "### Booleans and Boolean Evaluation Operators\n",
    "__True__ and __False__ are truth values in Python. They are the result of comparison operations or logical (Boolean) operations in Python. \n",
    "\n",
    "In Python, there are 3 Boolean operators:\n",
    "\n",
    "- __and__: Are both A and B true?\n",
    "- __not__: Is A the same as B?\n",
    "- __or__: Is A or B true?\n",
    "\n",
    "True and False are 2 of a handful of __keywords__. Keywords in Python are reserved words that cannot be used as a variable name, function name or any other identifier.\n",
    "[Dive Deeper](https://www.programiz.com/python-programming/keyword-list) on keywords."
   ]
  },
  {
   "cell_type": "markdown",
   "metadata": {},
   "source": [
    "__10) Run the follwoing cells and observe the results:__"
   ]
  },
  {
   "cell_type": "code",
   "execution_count": null,
   "metadata": {},
   "outputs": [],
   "source": [
    "True and False"
   ]
  },
  {
   "cell_type": "code",
   "execution_count": null,
   "metadata": {},
   "outputs": [],
   "source": [
    "not True"
   ]
  },
  {
   "cell_type": "code",
   "execution_count": null,
   "metadata": {},
   "outputs": [],
   "source": [
    "True or False"
   ]
  },
  {
   "cell_type": "markdown",
   "metadata": {},
   "source": [
    "__11) what do you guess will be the result of the following expression? Why?__"
   ]
  },
  {
   "cell_type": "code",
   "execution_count": null,
   "metadata": {},
   "outputs": [],
   "source": [
    "True + True"
   ]
  },
  {
   "cell_type": "markdown",
   "metadata": {},
   "source": [
    "__12) if the answer is not obviuos, try deducing the answer this way ...__"
   ]
  },
  {
   "cell_type": "code",
   "execution_count": null,
   "metadata": {},
   "outputs": [],
   "source": [
    "# what is the value of True?\n",
    "True == 1\n"
   ]
  },
  {
   "cell_type": "code",
   "execution_count": null,
   "metadata": {},
   "outputs": [],
   "source": [
    "# What is the value of False?\n",
    "False == 0"
   ]
  },
  {
   "cell_type": "markdown",
   "metadata": {},
   "source": [
    "## What's a type?\n",
    "type() is a python function that will tell you what you want to know! (More on functions later but note the () which indicate that type is a function)<br>\n",
    "\n",
    "__13) Run the following cells to see the results:__\n"
   ]
  },
  {
   "cell_type": "code",
   "execution_count": null,
   "metadata": {},
   "outputs": [],
   "source": [
    "type(8)"
   ]
  },
  {
   "cell_type": "code",
   "execution_count": null,
   "metadata": {},
   "outputs": [],
   "source": [
    "type(1.0)"
   ]
  },
  {
   "cell_type": "code",
   "execution_count": null,
   "metadata": {},
   "outputs": [],
   "source": [
    "type(\"hello world\")"
   ]
  },
  {
   "cell_type": "code",
   "execution_count": null,
   "metadata": {},
   "outputs": [],
   "source": [
    "type(True)"
   ]
  },
  {
   "cell_type": "code",
   "execution_count": null,
   "metadata": {},
   "outputs": [],
   "source": [
    "type(1==1)"
   ]
  },
  {
   "cell_type": "markdown",
   "metadata": {},
   "source": [
    "Declarative vs Imperative (Chap 1 of Guttag)\n",
    "Interpreted vs. compiled\n",
    "Vocab: program/script, shell, command/statement, objects, shell prompt >>>, concatenation"
   ]
  },
  {
   "cell_type": "code",
   "execution_count": null,
   "metadata": {},
   "outputs": [],
   "source": [
    "3*'a'"
   ]
  },
  {
   "cell_type": "code",
   "execution_count": null,
   "metadata": {},
   "outputs": [],
   "source": [
    "# type conversion\n",
    "'3'*'a'\n",
    "#int('3')*'a'"
   ]
  },
  {
   "cell_type": "markdown",
   "metadata": {},
   "source": [
    "### Challenge \n",
    "Try the finger exercise at the end of Chapter 2 in Guttag\n",
    "\n",
    "__Finger exercise__: Write a program that asks the user to input 10 integers, and\n",
    "then prints the largest odd number that was entered. If no odd number was\n",
    "entered, it should print a message to that effect."
   ]
  },
  {
   "cell_type": "code",
   "execution_count": null,
   "metadata": {},
   "outputs": [],
   "source": []
  }
 ],
 "metadata": {
  "kernelspec": {
   "display_name": "Python 3",
   "language": "python",
   "name": "python3"
  },
  "language_info": {
   "codemirror_mode": {
    "name": "ipython",
    "version": 3
   },
   "file_extension": ".py",
   "mimetype": "text/x-python",
   "name": "python",
   "nbconvert_exporter": "python",
   "pygments_lexer": "ipython3",
   "version": "3.6.8"
  }
 },
 "nbformat": 4,
 "nbformat_minor": 2
}
